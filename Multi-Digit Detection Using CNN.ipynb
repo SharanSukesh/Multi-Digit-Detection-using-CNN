{
 "cells": [
  {
   "cell_type": "markdown",
   "metadata": {},
   "source": [
    "___"
   ]
  },
  {
   "cell_type": "markdown",
   "metadata": {},
   "source": [
    "# Using Convolutional Neural Networks for Multi-digit Classification"
   ]
  },
  {
   "cell_type": "markdown",
   "metadata": {},
   "source": [
    "___"
   ]
  },
  {
   "cell_type": "markdown",
   "metadata": {},
   "source": [
    "## Table of Contents\n",
    "\n",
    "1. [Problem Statement](#section1)<br>\n",
    "2. [Data Loading and Description](#section2)</br>\n",
    "3. [Preparing Training and Test Sets](#section3)</br>\n",
    "4. [Creating and Training the Model](#section4)</br>\n",
    "5. [Image Transformations](#section5)</br>\n",
    "6. [Predictions](#section6)</br>\n",
    "7. [Conclusion](#section7)</br>  "
   ]
  },
  {
   "cell_type": "markdown",
   "metadata": {},
   "source": [
    "___"
   ]
  },
  {
   "cell_type": "markdown",
   "metadata": {},
   "source": [
    "<a id='section1'></a>\n",
    "### 1. Problem Statement"
   ]
  },
  {
   "cell_type": "markdown",
   "metadata": {},
   "source": [
    "In this notebook we will be using CNN on the MNSIT dataset in order to detect numbers with 1 or more digits from handwritten numbers. The model will be able to finally return the number that was shown to it. To do this, we will be using OpenCV in order to detect and highlight the digits that are identified. To do this we will use various different libraries such as keras, matplotlib and OpenCV. Lastly, we will save the model and create a simple app using Flask."
   ]
  },
  {
   "cell_type": "markdown",
   "metadata": {},
   "source": [
    "___"
   ]
  },
  {
   "cell_type": "markdown",
   "metadata": {},
   "source": [
    "<a id='section2'></a>\n",
    "### 2. Data Loading and Description"
   ]
  },
  {
   "cell_type": "markdown",
   "metadata": {},
   "source": [
    "- The MNIST database contains a set of handwritten digits written by 500 different writers. It is a subset of a larger set available from NIST. \n",
    "- It has a training set of __60,000__ examples, and a test set of __10,000__ examples. The digits have been size-normalized and centered in a fixed-size image."
   ]
  },
  {
   "cell_type": "markdown",
   "metadata": {},
   "source": [
    "#### Importing packages                                          "
   ]
  },
  {
   "cell_type": "code",
   "execution_count": 115,
   "metadata": {},
   "outputs": [],
   "source": [
    "import cv2\n",
    "import numpy as np\n",
    "from keras.layers import Dense, Flatten, Dropout\n",
    "from keras.layers.convolutional import Conv2D\n",
    "from keras.models import Sequential\n",
    "from keras.utils import to_categorical\n",
    "import matplotlib.pyplot as plt\n",
    "import pandas as pd\n",
    "from tensorflow.keras.callbacks import EarlyStopping"
   ]
  },
  {
   "cell_type": "markdown",
   "metadata": {},
   "source": [
    "#### Importing the Dataset"
   ]
  },
  {
   "cell_type": "code",
   "execution_count": null,
   "metadata": {},
   "outputs": [],
   "source": [
    "from keras.datasets import mnist"
   ]
  },
  {
   "cell_type": "markdown",
   "metadata": {},
   "source": [
    "___"
   ]
  },
  {
   "cell_type": "markdown",
   "metadata": {},
   "source": [
    "<a id='section3'></a>\n",
    "### 3. Preparing Training and Test Sets"
   ]
  },
  {
   "cell_type": "code",
   "execution_count": 3,
   "metadata": {},
   "outputs": [],
   "source": [
    "(X_train, y_train), (X_test, y_test) = mnist.load_data()"
   ]
  },
  {
   "cell_type": "markdown",
   "metadata": {},
   "source": [
    "Here we separate our data into training and test sets. We can do this simply by setting the training and test tuple as shown above."
   ]
  },
  {
   "cell_type": "code",
   "execution_count": 151,
   "metadata": {},
   "outputs": [
    {
     "name": "stdout",
     "output_type": "stream",
     "text": [
      "Shape of X_train: (60000, 28, 28, 1)\n",
      "Shape of y_train: (60000, 10)\n",
      "Shape of X_test: (10000, 28, 28, 1)\n",
      "Shape of y_test: (10000, 10)\n"
     ]
    }
   ],
   "source": [
    "## Check shapes of training and testing sets\n",
    "print (\"Shape of X_train: {}\".format(X_train.shape))\n",
    "print (\"Shape of y_train: {}\".format(y_train.shape))\n",
    "print (\"Shape of X_test: {}\".format(X_test.shape))\n",
    "print (\"Shape of y_test: {}\".format(y_test.shape))"
   ]
  },
  {
   "cell_type": "markdown",
   "metadata": {},
   "source": [
    "- As mentioned in the beginning, our training set has __60000__ images and our test set has __10000__ examples. The shape of each of the images is __28x28__ as we can see above as well. This means that when predicting from an image, we will need it to be in the same format."
   ]
  },
  {
   "cell_type": "code",
   "execution_count": 5,
   "metadata": {},
   "outputs": [],
   "source": [
    "X_train = X_train.reshape(60000, 28, 28, 1)\n",
    "X_test = X_test.reshape(10000, 28, 28, 1)"
   ]
  },
  {
   "cell_type": "markdown",
   "metadata": {},
   "source": [
    "- The images we will be using in our training will be greyscale images. This is represented by the 1 at the end of the shape."
   ]
  },
  {
   "cell_type": "markdown",
   "metadata": {},
   "source": [
    "Our next step will be to One hot encode the test and train output variables. We do this to have our output in a form that can be understood by our CNN. Our final layer will have 10 nodes. One for each number from 0-9. This will form a single dimension array of size 10. We will use the softmax function to obtain the probabilities of each number and the one with the highest probability will be set to one while all the other values in the array will be set to 0."
   ]
  },
  {
   "cell_type": "code",
   "execution_count": 6,
   "metadata": {},
   "outputs": [],
   "source": [
    "y_train = to_categorical(y_train)\n",
    "y_test = to_categorical(y_test)"
   ]
  },
  {
   "cell_type": "markdown",
   "metadata": {},
   "source": [
    "This is easily done by using the __to_categorical()__ function on y_train and y_test. Now both of them will be represented as a 1D vector with 10 elements each."
   ]
  },
  {
   "cell_type": "markdown",
   "metadata": {},
   "source": [
    "___"
   ]
  },
  {
   "cell_type": "markdown",
   "metadata": {},
   "source": [
    "<a id='section4'></a>\n",
    "### 4. Creating and Training the Model"
   ]
  },
  {
   "cell_type": "code",
   "execution_count": 127,
   "metadata": {},
   "outputs": [],
   "source": [
    "## Create an instance of the model\n",
    "model = Sequential()\n",
    "\n",
    "## Define the layers\n",
    "layer_1 = Conv2D(32, kernel_size=3, activation='relu', input_shape=(28, 28, 1))\n",
    "layer_2 = Conv2D(64, kernel_size=3, activation='relu')\n",
    "layer_3 = Flatten()\n",
    "layer_4 = Dense(10, activation='softmax')\n",
    "\n",
    "## Add the layers to the model\n",
    "model.add(layer_1)\n",
    "model.add(layer_2)\n",
    "model.add(layer_3)\n",
    "model.add(layer_4)"
   ]
  },
  {
   "cell_type": "markdown",
   "metadata": {},
   "source": [
    "- We will be using a simple Sequential model with 4 layers. We will have 2 Conv2D layers, followed by a flattening layer and lastly a fully-connected dense layer which will act as our output layer.\n",
    "- Since our output is a multi-class classification problem, we will be using the softmax function as our activation function in the last layer. Our Conv2D layers will have the Rectified Linear Unit or ReLU function."
   ]
  },
  {
   "cell_type": "code",
   "execution_count": 128,
   "metadata": {},
   "outputs": [],
   "source": [
    "model.compile(optimizer='adam', loss='categorical_crossentropy', metrics=['accuracy'])"
   ]
  },
  {
   "cell_type": "markdown",
   "metadata": {},
   "source": [
    "Next we compile our model using the categorical crossentropy loss function and the popular adam optimizer. We will be using accuracy as our metric of performance."
   ]
  },
  {
   "cell_type": "code",
   "execution_count": 129,
   "metadata": {},
   "outputs": [],
   "source": [
    "early_stop = EarlyStopping(monitor='val_loss',mode='min', verbose=1,patience=1)"
   ]
  },
  {
   "cell_type": "markdown",
   "metadata": {},
   "source": [
    "We will also implement an early stopping mechanism so that we do not overfit to our data. __val_loss__ will be used as our monitored metric and we will try and minimize this value."
   ]
  },
  {
   "cell_type": "code",
   "execution_count": 130,
   "metadata": {},
   "outputs": [
    {
     "name": "stdout",
     "output_type": "stream",
     "text": [
      "Train on 60000 samples, validate on 10000 samples\n",
      "Epoch 1/6\n",
      "60000/60000 [==============================] - 66s 1ms/step - loss: 0.3751 - accuracy: 0.9524 - val_loss: 0.1042 - val_accuracy: 0.9674\n",
      "Epoch 2/6\n",
      "60000/60000 [==============================] - 66s 1ms/step - loss: 0.0641 - accuracy: 0.9811 - val_loss: 0.0911 - val_accuracy: 0.9722\n",
      "Epoch 3/6\n",
      "60000/60000 [==============================] - 67s 1ms/step - loss: 0.0428 - accuracy: 0.9864 - val_loss: 0.0969 - val_accuracy: 0.9749\n",
      "Epoch 00003: early stopping\n"
     ]
    },
    {
     "data": {
      "text/plain": [
       "<keras.callbacks.callbacks.History at 0x24a274999c8>"
      ]
     },
     "execution_count": 130,
     "metadata": {},
     "output_type": "execute_result"
    }
   ],
   "source": [
    "model.fit(X_train, y_train, validation_data=(X_test, y_test), epochs=6,callbacks=[early_stop])"
   ]
  },
  {
   "cell_type": "markdown",
   "metadata": {},
   "source": [
    "As we can see, when we train our model, it triggers early stopping at __3 epochs__. At this point our model acheives an accuracy of about __98.6%__ and a validation accuracy of __97.5%__."
   ]
  },
  {
   "cell_type": "code",
   "execution_count": 131,
   "metadata": {},
   "outputs": [
    {
     "data": {
      "text/plain": [
       "<matplotlib.axes._subplots.AxesSubplot at 0x24a2ffabf88>"
      ]
     },
     "execution_count": 131,
     "metadata": {},
     "output_type": "execute_result"
    },
    {
     "data": {
      "image/png": "[encoded data removed]",
      "text/plain": [
       "<Figure size 432x288 with 1 Axes>"
      ]
     },
     "metadata": {
      "needs_background": "light"
     },
     "output_type": "display_data"
    }
   ],
   "source": [
    "losses = pd.DataFrame(model.history.history)\n",
    "losses[['loss','val_loss']].plot()"
   ]
  },
  {
   "cell_type": "markdown",
   "metadata": {},
   "source": [
    "Now lets examine our loss and val_loss in order to see if our Early Stopping mechanism has worked. As we can see, the early stopping was able to stop training before the __val_loss__ increased."
   ]
  },
  {
   "cell_type": "markdown",
   "metadata": {},
   "source": [
    "___"
   ]
  },
  {
   "cell_type": "markdown",
   "metadata": {},
   "source": [
    "<a id='section5'></a>\n",
    "### 5. Image Transformations"
   ]
  },
  {
   "cell_type": "markdown",
   "metadata": {},
   "source": [
    "Now that we've trained our model, the next step is to ready the image we are going to predict on. This includes augmentation such as resizing the images, thresholding and applying morphological transformations."
   ]
  },
  {
   "cell_type": "code",
   "execution_count": 132,
   "metadata": {},
   "outputs": [
    {
     "data": {
      "image/png": "[encoded data removed]",
      "text/plain": [
       "<Figure size 432x288 with 2 Axes>"
      ]
     },
     "metadata": {},
     "output_type": "display_data"
    }
   ],
   "source": [
    "img = cv2.imread('predict.jpg',0)\n",
    "img = cv2.medianBlur(img,5)\n",
    "ret,th1 = cv2.threshold(img,127,255,cv2.THRESH_BINARY_INV)\n",
    "\n",
    "titles = ['Original Image', 'Binary Inverse Threshold']\n",
    "images = [img, th1]\n",
    "for i in range(2):\n",
    "    plt.subplot(2,2,i+1),plt.imshow(images[i],'gray')\n",
    "    plt.title(titles[i])\n",
    "    plt.xticks([]),plt.yticks([])\n",
    "plt.show()"
   ]
  },
  {
   "cell_type": "markdown",
   "metadata": {},
   "source": [
    "The above cell shows the effect of using binary inversion thresholding on an image."
   ]
  },
  {
   "cell_type": "markdown",
   "metadata": {},
   "source": [
    "- Next we will define the kernals with which we will be performing morphological transformations such as erosion and dilation.\n",
    "- Following this, we will load in our image, we will then apply thresholding on it and then apply both erosion and dilation. This can also be seen as opening. We define them separately so as to be able to control the amount of erosion and dilation in the operation.\n",
    "- In our case, we need to dilate slightly more than erode to be able to work with our image.\n",
    "- After this, we will use OpenCV in order to find contours in our image so that we can then use these to create a bounding rectangle and draw them out.\n",
    "- Though we did perform erosion and dilation, we will also add a condition so that small isolated, unwanted features will not be recognized.\n",
    "- We then add all the pixels within these rectangles to a list which will contain all the digits in the number. Then we resize and add padding to it as the images of the MNIST dataset are also padded and that was the format of the images that our model is trained on."
   ]
  },
  {
   "cell_type": "code",
   "execution_count": 137,
   "metadata": {},
   "outputs": [],
   "source": [
    "kernel = np.ones((10,10),np.uint8)\n",
    "kernel1 = np.ones((1,1),np.uint8)"
   ]
  },
  {
   "cell_type": "code",
   "execution_count": 139,
   "metadata": {},
   "outputs": [
    {
     "data": {
      "image/png": "[encoded data removed]",
      "text/plain": [
       "<Figure size 432x288 with 1 Axes>"
      ]
     },
     "metadata": {
      "needs_background": "light"
     },
     "output_type": "display_data"
    },
    {
     "name": "stdout",
     "output_type": "stream",
     "text": [
      "\n",
      "\n",
      "\n",
      "----------------Contoured Image--------------------\n",
      "number of digits in the number :  3\n"
     ]
    },
    {
     "data": {
      "image/png": "[encoded data removed]",
      "text/plain": [
       "<Figure size 432x288 with 1 Axes>"
      ]
     },
     "metadata": {
      "needs_background": "light"
     },
     "output_type": "display_data"
    }
   ],
   "source": [
    "image = cv2.imread('./predict.jpg')\n",
    "grey = cv2.cvtColor(image.copy(), cv2.COLOR_BGR2GRAY)\n",
    "ret, thresh = cv2.threshold(grey.copy(), 170, 255, cv2.THRESH_BINARY_INV)\n",
    "\n",
    "thresh = cv2.erode(thresh,kernel1,iterations=1)\n",
    "thresh = cv2.dilate(thresh,kernel,iterations=2)\n",
    "plt.imshow(thresh,cmap='gray')\n",
    "plt.show()\n",
    "_, contours, _ = cv2.findContours(thresh.copy(), cv2.RETR_EXTERNAL, cv2.CHAIN_APPROX_SIMPLE)\n",
    "preprocessed_digits = []\n",
    "i = 0\n",
    "for c in contours:\n",
    "    x,y,w,h = cv2.boundingRect(c)\n",
    "    if ( w <= thresh.shape[0]*(0.05)) and h <= (thresh.shape[1]*(0.05)): # Even after we have eroded and dilated the images, we will still take\n",
    "                                                                         #precaution not to have small unwanted pixels or features being detected\n",
    "        \n",
    "        continue;\n",
    "    else:\n",
    "        \n",
    "        # Creating a rectangle around the digit in the original image (for displaying the digits fetched via contours)\n",
    "        cv2.rectangle(image, (x,y), (x+w, y+h), color=(255, 0, 0), thickness=2)\n",
    "\n",
    "        # Cropping out the digit from the image corresponding to the current contours in the for loop\n",
    "        digit = thresh[y:y+h, x:x+w]\n",
    "\n",
    "\n",
    "        # Resizing that digit to (18, 18)\n",
    "        i +=1\n",
    "        resized_digit = cv2.resize(digit, (18,18))\n",
    "       \n",
    "        # Padding the digit with 5 pixels of black color (zeros) in each side to finally produce the image of (28, 28)\n",
    "        padded_digit = np.pad(resized_digit, ((5,5),(5,5)), \"constant\", constant_values=0)\n",
    "\n",
    "        # Adding the preprocessed digit to the list of preprocessed digits\n",
    "        preprocessed_digits.append(padded_digit)\n",
    "print(\"\\n\\n\\n----------------Contoured Image--------------------\")\n",
    "print('number of digits in the number : ',i)\n",
    "plt.imshow(image, cmap=\"gray\")\n",
    "plt.show()\n",
    "    \n",
    "inp = np.array(preprocessed_digits)"
   ]
  },
  {
   "cell_type": "markdown",
   "metadata": {},
   "source": [
    "Our final contoured image is our original image with rectangles bounding each digit. At this point we also print the number of digits the number has."
   ]
  },
  {
   "cell_type": "markdown",
   "metadata": {},
   "source": [
    "___"
   ]
  },
  {
   "cell_type": "markdown",
   "metadata": {},
   "source": [
    "<a id='section6'></a>\n",
    "### 6. Predictions"
   ]
  },
  {
   "cell_type": "markdown",
   "metadata": {},
   "source": [
    "Finally we ar ready to view our prediction and see what the handwritten number is. To do this, we iterate through our list of preprocessed digits and pass them to the __model.predict()__ function after reshaping it. We reshape it so that we specify the batch as well as the number of channels which in our case is 1 (greyscale)"
   ]
  },
  {
   "cell_type": "code",
   "execution_count": 86,
   "metadata": {},
   "outputs": [
    {
     "name": "stdout",
     "output_type": "stream",
     "text": [
      "=========PREDICTION============ \n",
      "\n",
      "\n"
     ]
    },
    {
     "data": {
      "image/png": "[encoded data removed]",
      "text/plain": [
       "<Figure size 432x288 with 1 Axes>"
      ]
     },
     "metadata": {
      "needs_background": "light"
     },
     "output_type": "display_data"
    },
    {
     "name": "stdout",
     "output_type": "stream",
     "text": [
      "\n",
      "\n",
      " Prediction of digit number 1 : 2\n",
      "\n",
      "\n",
      "---------------------------------------\n",
      "\n",
      "\n"
     ]
    },
    {
     "data": {
      "image/png": "[encoded data removed]",
      "text/plain": [
       "<Figure size 432x288 with 1 Axes>"
      ]
     },
     "metadata": {
      "needs_background": "light"
     },
     "output_type": "display_data"
    },
    {
     "name": "stdout",
     "output_type": "stream",
     "text": [
      "\n",
      "\n",
      " Prediction of digit number 2 : 3\n",
      "\n",
      "\n",
      "---------------------------------------\n",
      "\n",
      "\n"
     ]
    },
    {
     "data": {
      "image/png": "[encoded data removed]",
      "text/plain": [
       "<Figure size 432x288 with 1 Axes>"
      ]
     },
     "metadata": {
      "needs_background": "light"
     },
     "output_type": "display_data"
    },
    {
     "name": "stdout",
     "output_type": "stream",
     "text": [
      "\n",
      "\n",
      " Prediction of digit number 3 : 5\n",
      "\n",
      "\n",
      "---------------------------------------\n",
      "\n",
      "\n",
      "========= FINAL PREDICTED NUMBER ============ \n",
      "\n",
      "The final predicted number is : 235\n",
      "============================================= \n",
      "\n",
      "\n"
     ]
    }
   ],
   "source": [
    "print (\"=========PREDICTION============ \\n\\n\")\n",
    "final_num = 'The final predicted number is : '\n",
    "index = 0\n",
    "for digit in preprocessed_digits:\n",
    "    prediction = model.predict(digit.reshape(1, 28, 28, 1))   # the first 1 signifies the batch size, the last 1 signifies greyscale image\n",
    "    plt.imshow(digit.reshape(28, 28), cmap=\"gray\")\n",
    "    plt.show()\n",
    "    print(\"\\n\\n Prediction of digit number {} : {}\".format(index+1,np.argmax(prediction)))\n",
    "    index +=1\n",
    "    final_num += str(np.argmax(prediction))\n",
    "    print (\"\\n\\n---------------------------------------\\n\\n\")\n",
    "print (\"========= FINAL PREDICTED NUMBER ============ \\n\")\n",
    "print(final_num)\n",
    "print (\"============================================= \\n\\n\")"
   ]
  },
  {
   "cell_type": "markdown",
   "metadata": {},
   "source": [
    "___"
   ]
  },
  {
   "cell_type": "markdown",
   "metadata": {},
   "source": [
    "<a id='section7'></a>\n",
    "### 7. Conclusion"
   ]
  },
  {
   "cell_type": "markdown",
   "metadata": {},
   "source": [
    "- We imported all the libraries we required in order to build and train our model. We also imported the MNIST dataset in order to train our model.\n",
    "- After this we created our train and test sets from the dataset. Our target variable (y_train and y_test) had to be one-hot encoded in order to fit the architecture of our CNNs final layer. We required each digit to be a node in the last layer so that using the softmax function would allow us to retrieve the probabilities of each of the digits for an input.\n",
    "- Next we began training the model with an arbitrary CNN structure of 2 Conv2D layers, one flattening and one Dense layer. We observed that our model had a very good accuracy of about __98%__.\n",
    "- We set an arbitrary value of epochs as we had implemented an EarlyStopping mechanism in order to prevent overfitting and hopefully reduce our training time.\n",
    "- Once our model was trained, we were ready to perform image augmentation on the image with which we needed to make a prediction. This included performing resizing and morphological transformations on the image in order to reduce noise and enhance certain features that would make it easier for our model to understand.\n",
    "- After we did this, we were ready to use OpenCV to find contours and bounding rectangles in this picture (one for each digit) and hightlight them.\n",
    "- Lastly, we were able to then iterate through this list of recognized digits and finally display the number that was written in our image."
   ]
  },
  {
   "cell_type": "markdown",
   "metadata": {},
   "source": [
    "___"
   ]
  }
 ],
 "metadata": {
  "kernelspec": {
   "display_name": "Python 3",
   "language": "python",
   "name": "python3"
  },
  "language_info": {
   "codemirror_mode": {
    "name": "ipython",
    "version": 3
   },
   "file_extension": ".py",
   "mimetype": "text/x-python",
   "name": "python",
   "nbconvert_exporter": "python",
   "pygments_lexer": "ipython3",
   "version": "3.7.6"
  }
 },
 "nbformat": 4,
 "nbformat_minor": 4
}
